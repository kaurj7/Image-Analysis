{
 "cells": [
  {
   "cell_type": "code",
   "execution_count": 4,
   "id": "1cf9a259",
   "metadata": {},
   "outputs": [],
   "source": [
    "from os import listdir\n",
    "from os.path import isfile, join\n",
    "import numpy as np\n",
    "import cv2\n",
    "import random\n",
    "from matplotlib import pyplot as plt\n",
    "import time\n",
    "import sys"
   ]
  },
  {
   "cell_type": "code",
   "execution_count": 13,
   "id": "b7921004",
   "metadata": {},
   "outputs": [],
   "source": [
    "mypath = \"/Users/jasleenkaur/Desktop/Masters/Spring 2022/Image Analysis/Project/Cancerous cell smears/\"\n",
    "\n",
    "saveLocation = \"/Users/jasleenkaur/Desktop/Masters/Spring 2022/Image Analysis/Project/images3/\"\n",
    "\n",
    "def convert2Gray(grayscaleImageArray, imageType):\n",
    "    cntr = 1\n",
    "    for eachImage in range(len(grayscaleImageArray)):\n",
    "\n",
    "        r, g, b = grayscaleImageArray[eachImage][:, :, 0], \\\n",
    "                  grayscaleImageArray[eachImage][:, :, 1], \\\n",
    "                  grayscaleImageArray[eachImage][:, :, 2]\n",
    "\n",
    "        grayscaleImageArray[eachImage] = r * 0.2989 + g * 0.5870 + b * 0.1140\n",
    "        grayscaleImageArray[eachImage] = np.uint8(grayscaleImageArray[eachImage])\n",
    "\n",
    "        cv2.imwrite(saveLocation + imageType + str(cntr) + \".bmp\", grayscaleImageArray[eachImage])\n",
    "        cntr += 1\n",
    "\n",
    "    return grayscaleImageArray, imageType\n",
    "\n",
    "\n",
    "def extractImageArrays(cellFiles, imageArrays, mypath):\n",
    "    for n in range(0, len(cellFiles)):\n",
    "        imageArrays[n] = cv2.imread(join(mypath, cellFiles[n]))\n",
    "    return imageArrays\n",
    "\n",
    "\n",
    "# Three lists: one for each image type, second to hold grayscale images, third for rgb images\n",
    "classNames = [\"cyl\", \"para\", \"inter\", \"super\", \"let\", \"mod\", \"svar\"]\n",
    "classList = []\n",
    "colorClassList = []\n",
    "\n",
    "# For loop to iterate through each class of images\n",
    "for eachClass in classNames:\n",
    "    cellFiles = [f for f in sorted(listdir(mypath))\n",
    "                 if(isfile(join(mypath, f))) & (not f.startswith('.')) & (f.startswith(eachClass))]\n",
    "    cellImages = np.empty(len(cellFiles), dtype=object)\n",
    "\n",
    "    cellImageArray = extractImageArrays(cellFiles, cellImages, mypath)\n",
    "    colorImageArray = np.copy(cellImageArray)\n",
    "    colorClassList.append(colorImageArray)\n",
    "\n",
    "    cellGrayArray, cylImageType = convert2Gray(cellImageArray, eachClass)\n",
    "    cellCopyArray = np.copy(cellGrayArray)\n",
    "    classList.append(cellCopyArray)\n",
    "        \n",
    "\n",
    "allImages = np.copy(classList)"
   ]
  },
  {
   "cell_type": "code",
   "execution_count": 24,
   "id": "b088a297",
   "metadata": {},
   "outputs": [],
   "source": [
    "for i in range(len(allImages)):\n",
    "    cntr = 1\n",
    "    for eachImage in (allImages[i]):\n",
    "        row, column = eachImage.shape\n",
    "        #print(eachImage.shape)\n",
    "    #np.reshape(eachImage, [32, 32, 3, -1], order=\"F\")\n"
   ]
  },
  {
   "cell_type": "code",
   "execution_count": null,
   "id": "00632df3",
   "metadata": {},
   "outputs": [],
   "source": [
    "testImage = cv2.imread(\"/Users/jasleenkaur/Desktop/Masters/Spring 2022/Image Analysis/Project/Cancerous cell smears/cyl01.bmp\")\n",
    "\n",
    "\n",
    "def euclidean_distance(row1, row2):\n",
    "    distance = 0.0\n",
    "    for i in range(len(row1)-1):\n",
    "        distance += (row1[i] - row2[i])**2\n",
    "    return sqrt(distance)\n",
    "\n",
    "\n",
    "#the number will differ based on the number of training images\n",
    "dist1 = np.zeros(len(allImages))\n",
    "\n",
    "for i in range(len(allImages)):\n",
    "    for eachImage in (allImages[i]):\n",
    "        eachImage = allImages[0:3072, i]\n",
    "        dist1[i] = euclidean_distance(testImage, eachImage)\n",
    "    \n",
    "print(\"Euclidean Distance: \", dist1)\n",
    "print(\"Minimum Distance: \", min(dist1))\n",
    "mindist = np.argmin(dist)\n",
    "print(\"Index of Minimum Distance: \", mindist)"
   ]
  }
 ],
 "metadata": {
  "kernelspec": {
   "display_name": "Python 3 (ipykernel)",
   "language": "python",
   "name": "python3"
  },
  "language_info": {
   "codemirror_mode": {
    "name": "ipython",
    "version": 3
   },
   "file_extension": ".py",
   "mimetype": "text/x-python",
   "name": "python",
   "nbconvert_exporter": "python",
   "pygments_lexer": "ipython3",
   "version": "3.9.7"
  }
 },
 "nbformat": 4,
 "nbformat_minor": 5
}
