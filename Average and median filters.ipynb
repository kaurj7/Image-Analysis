{
 "cells": [
  {
   "cell_type": "code",
   "execution_count": 1,
   "id": "333fd886",
   "metadata": {},
   "outputs": [],
   "source": [
    "from os import listdir\n",
    "from os.path import isfile, join\n",
    "import numpy as np\n",
    "import cv2"
   ]
  },
  {
   "cell_type": "code",
   "execution_count": 19,
   "id": "95c0542d",
   "metadata": {},
   "outputs": [
    {
     "data": {
      "text/plain": [
       "True"
      ]
     },
     "execution_count": 19,
     "metadata": {},
     "output_type": "execute_result"
    }
   ],
   "source": [
    "#median filter for one image\n",
    "\n",
    "from os import listdir\n",
    "from os.path import isfile, join\n",
    "import numpy as np\n",
    "import cv2\n",
    "\n",
    "def medianFilter(image, kernelSize):\n",
    "    medianFilterList = []\n",
    "    index = kernelSize // 2\n",
    "    \n",
    "    newImage = []\n",
    "    newImage = np.zeros((len(image), len(image[0])))\n",
    "    \n",
    "    for i in range(len(image)):\n",
    "        for j in range(len(image[0])):\n",
    "            for z in range(kernelSize):\n",
    "                \n",
    "                if i + z - index < 0 or i + z - index > len(image) - 1:\n",
    "                    medianFilterList.append(0)\n",
    "        \n",
    "                else:\n",
    "                    if j + z - index < 0 or j + index > len(image[0]) - 1:\n",
    "                        medianFilterList.append(0)\n",
    "                        \n",
    "                    else:\n",
    "                        for k in range(kernelSize):\n",
    "                            medianFilterList.append(image[(i + z - indexer)][(j + k - indexer)])\n",
    "                            \n",
    "            \n",
    "            medianFilterList.sort()\n",
    "            newImage[i][j] = medianFilterList[len(medianFilterList) // 2]\n",
    "            medianFilterList = []\n",
    "    return newImage\n",
    "\n",
    "image = cv2.imread(\"/Users/jasleenkaur/Desktop/Masters/Spring 2022/Image Analysis/Project/Cancerous cell smears/cyl01.bmp\", 0)\n",
    "medianFilterImage = medianFilter(image, 9)\n",
    "cv2.imwrite(\"/Users/jasleenkaur/Desktop/Masters/Spring 2022/Image Analysis/Project/medianFilter3.bmp\", medianFilterImage)\n",
    "\n",
    "#cv2.imshow(\"new image\", medianFilterImage)\n",
    "#cv2.waitKey(0)\n",
    "#cv2.destroyAllWindows()\n",
    "\n"
   ]
  },
  {
   "cell_type": "code",
   "execution_count": null,
   "id": "67c284b6",
   "metadata": {},
   "outputs": [],
   "source": []
  },
  {
   "cell_type": "code",
   "execution_count": null,
   "id": "fdfd5c34",
   "metadata": {},
   "outputs": [],
   "source": []
  },
  {
   "cell_type": "code",
   "execution_count": null,
   "id": "4d8d718d",
   "metadata": {},
   "outputs": [],
   "source": []
  },
  {
   "cell_type": "code",
   "execution_count": 7,
   "id": "cbbcdbc5",
   "metadata": {},
   "outputs": [
    {
     "name": "stdout",
     "output_type": "stream",
     "text": [
      "568\n",
      "768\n"
     ]
    }
   ],
   "source": [
    "print(image.shape[0])\n",
    "print(image.shape[1])"
   ]
  },
  {
   "cell_type": "code",
   "execution_count": 11,
   "id": "0813f247",
   "metadata": {},
   "outputs": [
    {
     "name": "stdout",
     "output_type": "stream",
     "text": [
      "(568, 768)\n"
     ]
    }
   ],
   "source": [
    "from os import listdir\n",
    "from os.path import isfile, join\n",
    "import numpy as np\n",
    "import cv2\n",
    "\n",
    "\n",
    "image = cv2.imread(\"/Users/jasleenkaur/Desktop/Masters/Spring 2022/Image Analysis/Project/Cancerous cell smears/cyl01.bmp\", 0)\n",
    "#print(image)\n",
    "#print(len(image))\n",
    "#print(image[567])\n",
    "print(image.shape)\n",
    "\n"
   ]
  },
  {
   "cell_type": "code",
   "execution_count": 13,
   "id": "73494e66",
   "metadata": {},
   "outputs": [
    {
     "name": "stdout",
     "output_type": "stream",
     "text": [
      "[(0, 0), (0, 0), (0, 0), (0, 0), (0, 0), (0, 0), (0, 0), (0, 0), (0, 0)]\n"
     ]
    }
   ],
   "source": [
    "x = [(0,0)]*9\n",
    "print(x)"
   ]
  },
  {
   "cell_type": "code",
   "execution_count": null,
   "id": "85efb18c",
   "metadata": {},
   "outputs": [],
   "source": []
  },
  {
   "cell_type": "code",
   "execution_count": null,
   "id": "6c01f987",
   "metadata": {},
   "outputs": [],
   "source": []
  },
  {
   "cell_type": "code",
   "execution_count": 20,
   "id": "ad354880",
   "metadata": {},
   "outputs": [
    {
     "name": "stdout",
     "output_type": "stream",
     "text": [
      "499\n"
     ]
    }
   ],
   "source": [
    "#Loading images into arrays\n",
    "\n",
    "mypath = '/Users/jasleenkaur/Desktop/Masters/Spring 2022/Image Analysis/Project/Cancerous cell smears/'\n",
    "cellFiles = [f for f in listdir(mypath) if (isfile(join(mypath,f))) & (not f.startswith('.'))]\n",
    "originalImages = np.empty(len(cellFiles),dtype=object)\n",
    "grayscaleImages = np.empty(len(cellFiles),dtype=object)\n",
    "\n",
    "for n in range(0,len(cellFiles)):\n",
    "    originalImages[n] = cv2.imread(join(mypath,cellFiles[n]))\n",
    "    grayscaleImages[n] = cv2.imread(join(mypath,cellFiles[n]), 0)\n",
    "    \n",
    "\n",
    "print(len(cellFiles))\n",
    "\n",
    "#originalImages[1].size, originalImages[1].shape, originalImages[1].ndim\n",
    "#grayscaleImages[1].size, grayscaleImages[1].shape, grayscaleImages[1].ndim\n",
    "#cv2.imshow('Sample image', images[1])\n",
    "#cv2.waitKey(0)\n",
    "#cv2.destroyAllWindows()"
   ]
  },
  {
   "cell_type": "code",
   "execution_count": 33,
   "id": "d9dbf4ac",
   "metadata": {},
   "outputs": [],
   "source": [
    "#median filter for multiple images - FINAL\n",
    "\n",
    "from os import listdir\n",
    "from os.path import isfile, join\n",
    "import numpy as np\n",
    "import cv2\n",
    "\n",
    "def medianFilter(medianArray, kernelSize):\n",
    "    \n",
    "    medianFilterList = []\n",
    "    index = kernelSize // 2\n",
    "    \n",
    "    cntr = 1\n",
    "    \n",
    "    for eachImage in range(len(medianArray)):\n",
    "        \n",
    "        height, width = medianArray[eachImage].shape\n",
    "        \n",
    "        newImage = np.copy(medianArray[eachImage])\n",
    "    \n",
    "    \n",
    "        for i in range(len(medianArray[eachImage])):\n",
    "            for j in range(len(medianArray[eachImage][0])):\n",
    "                for z in range(kernelSize):\n",
    "                \n",
    "                    if i + z - index < 0 or i + z - index > len(medianArray[eachImage]) - 1:\n",
    "                        medianFilterList.append(0)\n",
    "        \n",
    "                    else:\n",
    "                        if j + z - index < 0 or j + index > len(medianArray[eachImage][0]) - 1:\n",
    "                            medianFilterList.append(0)\n",
    "                        \n",
    "                        else:\n",
    "                            for k in range(kernelSize):\n",
    "                                medianFilterList.append(medianArray[eachImage][(i + z - index)][(j + k - index)])\n",
    "                            \n",
    "            \n",
    "                medianFilterList.sort()\n",
    "                newImage[i][j] = medianFilterList[len(medianFilterList) // 2]\n",
    "                medianFilterList = []\n",
    "                \n",
    "        cv2.imwrite(\"/Users/jasleenkaur/Desktop/Masters/Spring 2022/Image Analysis/Project/MedianFilter/median\" + str(cntr) + \".bmp\", newImage)\n",
    "        cntr += 1\n",
    "        \n",
    "    return newImage\n",
    "\n",
    "\n",
    "medianArray = np.copy(grayscaleImages[:10])\n",
    "medianFilterImageArray = medianFilter(medianArray, 9)\n",
    "\n"
   ]
  },
  {
   "cell_type": "code",
   "execution_count": null,
   "id": "606c3b08",
   "metadata": {},
   "outputs": [],
   "source": []
  },
  {
   "cell_type": "code",
   "execution_count": null,
   "id": "4b7cb9fb",
   "metadata": {},
   "outputs": [],
   "source": []
  },
  {
   "cell_type": "code",
   "execution_count": 35,
   "id": "ea7fae68",
   "metadata": {},
   "outputs": [
    {
     "data": {
      "text/plain": [
       "True"
      ]
     },
     "execution_count": 35,
     "metadata": {},
     "output_type": "execute_result"
    }
   ],
   "source": [
    "#average filter for one image\n",
    "\n",
    "from os import listdir\n",
    "from os.path import isfile, join\n",
    "import numpy as np\n",
    "import cv2\n",
    "\n",
    "def averageFilter(image, kernelSize):\n",
    "    \n",
    "    index = kernelSize // 2\n",
    "    \n",
    "    newImage = np.copy(image)\n",
    "    \n",
    "    height, width = image.shape\n",
    "    \n",
    "    for x in range(height):\n",
    "        for y in range(width):\n",
    "            \n",
    "            total = 0\n",
    "            for xi in range(max(0,x-index), min(height-1, x+index) +1):\n",
    "                for yi in range(max(0,y-index), min(width-1, y+index) +1):\n",
    "                    total += image[xi, yi]\n",
    "            newImage[x,y] = total/(kernelSize **2)\n",
    "            \n",
    "    return newImage\n",
    "\n",
    "image = cv2.imread(\"/Users/jasleenkaur/Desktop/Masters/Spring 2022/Image Analysis/Project/Cancerous cell smears/cyl01.bmp\", 0)\n",
    "averageFilterImage = averageFilter(image, 9)\n",
    "cv2.imwrite(\"/Users/jasleenkaur/Desktop/Masters/Spring 2022/Image Analysis/Project/average.bmp\", averageFilterImage)\n",
    "\n",
    "#cv2.imshow(\"new image\", medianFilterImage)\n",
    "#cv2.waitKey(0)\n",
    "#cv2.destroyAllWindows()\n",
    "\n"
   ]
  },
  {
   "cell_type": "code",
   "execution_count": null,
   "id": "5f28dfb2",
   "metadata": {},
   "outputs": [],
   "source": [
    "#average filter for multiple images\n",
    "\n",
    "from os import listdir\n",
    "from os.path import isfile, join\n",
    "import numpy as np\n",
    "import cv2\n",
    "\n",
    "def averageFilter(averageImageArray, kernelSize):\n",
    "    \n",
    "    index = kernelSize // 2\n",
    "    \n",
    "    newImage = np.copy(image)\n",
    "    \n",
    "    height, width = image.shape\n",
    "    \n",
    "    for x in range(height):\n",
    "        for y in range(width):\n",
    "            \n",
    "            total = 0\n",
    "            for xi in range(max(0,x-index), min(height-1, x+index) +1):\n",
    "                for yi in range(max(0,y-index), min(width-1, y+index) +1):\n",
    "                    total += image[xi, yi]\n",
    "            newImage[x,y] = total/(kernelSize **2)\n",
    "            \n",
    "    return newImage\n",
    "\n",
    "image = cv2.imread(\"/Users/jasleenkaur/Desktop/Masters/Spring 2022/Image Analysis/Project/Cancerous cell smears/cyl01.bmp\", 0)\n",
    "averageFilterImage = averageFilter(image, 9)\n",
    "cv2.imwrite(\"/Users/jasleenkaur/Desktop/Masters/Spring 2022/Image Analysis/Project/average.bmp\", averageFilterImage)\n",
    "\n",
    "#cv2.imshow(\"new image\", medianFilterImage)\n",
    "#cv2.waitKey(0)\n",
    "#cv2.destroyAllWindows()\n",
    "\n"
   ]
  }
 ],
 "metadata": {
  "kernelspec": {
   "display_name": "Python 3 (ipykernel)",
   "language": "python",
   "name": "python3"
  },
  "language_info": {
   "codemirror_mode": {
    "name": "ipython",
    "version": 3
   },
   "file_extension": ".py",
   "mimetype": "text/x-python",
   "name": "python",
   "nbconvert_exporter": "python",
   "pygments_lexer": "ipython3",
   "version": "3.9.7"
  }
 },
 "nbformat": 4,
 "nbformat_minor": 5
}
