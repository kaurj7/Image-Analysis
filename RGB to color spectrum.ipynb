{
 "cells": [
  {
   "cell_type": "code",
   "execution_count": 28,
   "id": "0e827632",
   "metadata": {},
   "outputs": [],
   "source": [
    "from os import listdir\n",
    "from os.path import isfile, join\n",
    "import numpy as np\n",
    "import cv2"
   ]
  },
  {
   "cell_type": "code",
   "execution_count": 29,
   "id": "36204abb",
   "metadata": {},
   "outputs": [
    {
     "name": "stdout",
     "output_type": "stream",
     "text": [
      "499\n"
     ]
    }
   ],
   "source": [
    "#Loading images into arrays\n",
    "\n",
    "mypath = '/Users/jasleenkaur/Desktop/Masters/Spring 2022/Image Analysis/Project/Cancerous cell smears/'\n",
    "cellFiles = [f for f in listdir(mypath) if (isfile(join(mypath,f))) & (not f.startswith('.'))]\n",
    "originalImages = np.empty(len(cellFiles),dtype=object)\n",
    "grayscaleImages = np.empty(len(cellFiles),dtype=object)\n",
    "\n",
    "for n in range(0,len(cellFiles)):\n",
    "    originalImages[n] = cv2.imread(join(mypath,cellFiles[n]))\n",
    "    grayscaleImages[n] = cv2.imread(join(mypath,cellFiles[n]), 0)\n",
    "    \n",
    "\n",
    "print(len(cellFiles))\n",
    "\n",
    "#originalImages[1].size, originalImages[1].shape, originalImages[1].ndim\n",
    "#grayscaleImages[1].size, grayscaleImages[1].shape, grayscaleImages[1].ndim\n",
    "#cv2.imshow('Sample image', images[1])\n",
    "#cv2.waitKey(0)\n",
    "#cv2.destroyAllWindows()"
   ]
  },
  {
   "cell_type": "code",
   "execution_count": 34,
   "id": "1259d17d",
   "metadata": {},
   "outputs": [
    {
     "name": "stdout",
     "output_type": "stream",
     "text": [
      "6\n"
     ]
    }
   ],
   "source": [
    "#RGB to color spectrum\n",
    "\n",
    "RGBarray = np.copy(originalImages[:5])\n",
    "\n",
    "fileSaveLocation = \"/Users/jasleenkaur/Desktop/Masters/Spring 2022/Image Analysis/Project/Color spectrum/\"\n",
    "\n",
    "def colorSpectrum(RGBarray, color):\n",
    "    cntr = 1\n",
    "    for eachImage in range(len(RGBarray)):\n",
    "        b, g, r = cv2.split(RGBarray[eachImage])\n",
    "        zeros_ch = np.zeros(RGBarray[eachImage].shape[0:2], dtype=\"uint8\")\n",
    "        \n",
    "        if color == \"blue\":\n",
    "            RGBarray[eachImage] = cv2.merge([b, zeros_ch, zeros_ch])\n",
    "            \n",
    "        if color == \"green\":\n",
    "            RGBarray[eachImage] = cv2.merge([zeros_ch, g, zeros_ch])\n",
    "            \n",
    "        if color == \"red\":\n",
    "            RGBarray[eachImage] = cv2.merge([zeros_ch, zeros_ch, r])\n",
    "        \n",
    "        cv2.imwrite(fileSaveLocation + color + str(cntr) + \".bmp\", RGBarray[eachImage])\n",
    "        cntr+=1\n",
    "        #print(counter)\n",
    "    return RGBarray, cntr\n",
    "\n",
    "RGBarray, counter = colorSpectrum(RGBarray, \"red\")\n",
    "print(counter)\n",
    "\n"
   ]
  },
  {
   "cell_type": "code",
   "execution_count": null,
   "id": "8cc7dc9f",
   "metadata": {},
   "outputs": [],
   "source": []
  },
  {
   "cell_type": "code",
   "execution_count": null,
   "id": "19d249a8",
   "metadata": {},
   "outputs": [],
   "source": []
  }
 ],
 "metadata": {
  "kernelspec": {
   "display_name": "Python 3 (ipykernel)",
   "language": "python",
   "name": "python3"
  },
  "language_info": {
   "codemirror_mode": {
    "name": "ipython",
    "version": 3
   },
   "file_extension": ".py",
   "mimetype": "text/x-python",
   "name": "python",
   "nbconvert_exporter": "python",
   "pygments_lexer": "ipython3",
   "version": "3.9.7"
  }
 },
 "nbformat": 4,
 "nbformat_minor": 5
}
