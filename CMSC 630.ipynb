{
 "cells": [
  {
   "cell_type": "code",
   "execution_count": 4,
   "id": "b989c304",
   "metadata": {},
   "outputs": [],
   "source": [
    "from os import listdir\n",
    "from os.path import isfile, join\n",
    "import numpy as np\n",
    "import cv2\n",
    "import random"
   ]
  },
  {
   "cell_type": "code",
   "execution_count": 5,
   "id": "1b5aa6e4",
   "metadata": {},
   "outputs": [
    {
     "name": "stdout",
     "output_type": "stream",
     "text": [
      "500\n"
     ]
    }
   ],
   "source": [
    "#Loading images into arrays\n",
    "mypath = '/Users/jasleenkaur/Desktop/Masters/Spring 2022/Image Analysis/Project/Cancerous cell smears/'\n",
    "cellFiles = [f for f in listdir(mypath) if isfile(join(mypath,f))]\n",
    "originalImages = np.empty(len(cellFiles),dtype=object)\n",
    "grayscaleImages = np.empty(len(cellFiles),dtype=object)\n",
    "for n in range(0,len(cellFiles)):\n",
    "    originalImages[n] = cv2.imread(join(mypath,cellFiles[n]))\n",
    "    grayscaleImages[n] = cv2.imread(join(mypath,cellFiles[n]), 0)\n",
    "    \n",
    "\n",
    "print(len(cellFiles))\n",
    "#originalImages[1].size, originalImages[1].shape, originalImages[1].ndim\n",
    "#grayscaleImages[1].size, grayscaleImages[1].shape, grayscaleImages[1].ndim\n",
    "#cv2.imshow('Sample image', images[1])\n",
    "#cv2.waitKey(0)\n",
    "#cv2.destroyAllWindows()\n"
   ]
  },
  {
   "cell_type": "code",
   "execution_count": 10,
   "id": "55a98600",
   "metadata": {},
   "outputs": [
    {
     "ename": "ValueError",
     "evalue": "not enough values to unpack (expected 2, got 1)",
     "output_type": "error",
     "traceback": [
      "\u001b[0;31m---------------------------------------------------------------------------\u001b[0m",
      "\u001b[0;31mValueError\u001b[0m                                Traceback (most recent call last)",
      "\u001b[0;32m/var/folders/xm/7j3wj79x3j53lzgp3fy4kw_00000gn/T/ipykernel_651/3066773490.py\u001b[0m in \u001b[0;36m<module>\u001b[0;34m\u001b[0m\n\u001b[1;32m     23\u001b[0m \u001b[0;34m\u001b[0m\u001b[0m\n\u001b[1;32m     24\u001b[0m \u001b[0;34m\u001b[0m\u001b[0m\n\u001b[0;32m---> 25\u001b[0;31m \u001b[0mcv2\u001b[0m\u001b[0;34m.\u001b[0m\u001b[0mimwrite\u001b[0m\u001b[0;34m(\u001b[0m\u001b[0mcellFiles\u001b[0m\u001b[0;34m,\u001b[0m \u001b[0msaltPepper\u001b[0m\u001b[0;34m(\u001b[0m\u001b[0msaltPepperArray\u001b[0m\u001b[0;34m)\u001b[0m\u001b[0;34m)\u001b[0m\u001b[0;34m\u001b[0m\u001b[0;34m\u001b[0m\u001b[0m\n\u001b[0m\u001b[1;32m     26\u001b[0m \u001b[0mcv2\u001b[0m\u001b[0;34m.\u001b[0m\u001b[0mimshow\u001b[0m\u001b[0;34m(\u001b[0m\u001b[0;34m'SaltPepper Image'\u001b[0m\u001b[0;34m,\u001b[0m \u001b[0msaltPepperArray\u001b[0m\u001b[0;34m[\u001b[0m\u001b[0;36m1\u001b[0m\u001b[0;34m]\u001b[0m\u001b[0;34m)\u001b[0m\u001b[0;34m\u001b[0m\u001b[0;34m\u001b[0m\u001b[0m\n\u001b[1;32m     27\u001b[0m \u001b[0mcv2\u001b[0m\u001b[0;34m.\u001b[0m\u001b[0mwaitKey\u001b[0m\u001b[0;34m(\u001b[0m\u001b[0;36m0\u001b[0m\u001b[0;34m)\u001b[0m\u001b[0;34m\u001b[0m\u001b[0;34m\u001b[0m\u001b[0m\n",
      "\u001b[0;32m/var/folders/xm/7j3wj79x3j53lzgp3fy4kw_00000gn/T/ipykernel_651/3066773490.py\u001b[0m in \u001b[0;36msaltPepper\u001b[0;34m(saltPepperArray)\u001b[0m\n\u001b[1;32m      8\u001b[0m \u001b[0;32mdef\u001b[0m \u001b[0msaltPepper\u001b[0m\u001b[0;34m(\u001b[0m\u001b[0msaltPepperArray\u001b[0m\u001b[0;34m)\u001b[0m\u001b[0;34m:\u001b[0m\u001b[0;34m\u001b[0m\u001b[0;34m\u001b[0m\u001b[0m\n\u001b[1;32m      9\u001b[0m     \u001b[0mnumber_of_pixels\u001b[0m \u001b[0;34m=\u001b[0m \u001b[0mrandom\u001b[0m\u001b[0;34m.\u001b[0m\u001b[0mrandint\u001b[0m\u001b[0;34m(\u001b[0m\u001b[0;36m300\u001b[0m\u001b[0;34m,\u001b[0m\u001b[0;36m10000\u001b[0m\u001b[0;34m)\u001b[0m\u001b[0;34m\u001b[0m\u001b[0;34m\u001b[0m\u001b[0m\n\u001b[0;32m---> 10\u001b[0;31m     \u001b[0mrow\u001b[0m\u001b[0;34m,\u001b[0m \u001b[0mcol\u001b[0m \u001b[0;34m=\u001b[0m \u001b[0msaltPepperArray\u001b[0m\u001b[0;34m.\u001b[0m\u001b[0mshape\u001b[0m\u001b[0;34m\u001b[0m\u001b[0;34m\u001b[0m\u001b[0m\n\u001b[0m\u001b[1;32m     11\u001b[0m     \u001b[0;32mfor\u001b[0m \u001b[0mn\u001b[0m \u001b[0;32min\u001b[0m \u001b[0msaltPepperArray\u001b[0m\u001b[0;34m:\u001b[0m\u001b[0;34m\u001b[0m\u001b[0;34m\u001b[0m\u001b[0m\n\u001b[1;32m     12\u001b[0m         \u001b[0;32mfor\u001b[0m \u001b[0mi\u001b[0m \u001b[0;32min\u001b[0m \u001b[0mrange\u001b[0m\u001b[0;34m(\u001b[0m\u001b[0mnumber_of_pixels\u001b[0m\u001b[0;34m)\u001b[0m\u001b[0;34m:\u001b[0m\u001b[0;34m\u001b[0m\u001b[0;34m\u001b[0m\u001b[0m\n",
      "\u001b[0;31mValueError\u001b[0m: not enough values to unpack (expected 2, got 1)"
     ]
    }
   ],
   "source": [
    "#Salt and Pepper noise\n",
    "\n",
    "#copy the array of immages to modify\n",
    "saltPepperArray = grayscaleImages\n",
    "#print(len(saltPepperArray))\n",
    "#print(len(originalImages))\n",
    "\n",
    "\n",
    "def saltPepper(saltPepperArray):\n",
    "    number_of_pixels = random.randint(300,10000)\n",
    "    row, col = saltPepperArray.shape\n",
    "    for eachImage in saltPepperArray:\n",
    "        row, col = saltPepperArray[eachImage]\n",
    "    for n in saltPepperArray:\n",
    "        for i in range(number_of_pixels):\n",
    "            y_coord=random.randint(0,row-1)\n",
    "            x_coord=random.randint(0,col-1)\n",
    "            n[y_coord][x_coord] = 255\n",
    "    \n",
    "        number_of_pixels = random.randint(300,10000)\n",
    "        for i in range(number_of_pixels):\n",
    "            y_coord=random.randint(0,row-1)\n",
    "            x_coord=random.randint(0,col-1)\n",
    "            n[y_coord][x_coord] = 0\n",
    "    return saltPepperArray\n",
    "\n",
    "\n",
    "cv2.imwrite(cellFiles, saltPepper(saltPepperArray))\n",
    "cv2.imshow('SaltPepper Image', saltPepperArray[1])\n",
    "cv2.waitKey(0)\n",
    "cv2.destroyAllWindows()\n",
    "\n"
   ]
  },
  {
   "cell_type": "code",
   "execution_count": null,
   "id": "9154e7c5",
   "metadata": {},
   "outputs": [],
   "source": [
    "cv2.imshow('Grayscale image', grayscaleImages[1])\n",
    "cv2.waitKey(0)\n",
    "cv2.destroyAllWindows()"
   ]
  },
  {
   "cell_type": "code",
   "execution_count": 15,
   "id": "2b8bb9ec",
   "metadata": {},
   "outputs": [
    {
     "name": "stdout",
     "output_type": "stream",
     "text": [
      "[[  2  36 107 ... 155 156 159]\n",
      " [  5  27  93 ... 159 157 155]\n",
      " [  5  33  99 ... 156 156 158]\n",
      " ...\n",
      " [ 16  85 162 ... 188 186 188]\n",
      " [ 10  58 107 ... 143 143 143]\n",
      " [  6  19  22 ...  26  28  23]]\n"
     ]
    }
   ],
   "source": [
    "print(grayscaleImages[1])"
   ]
  },
  {
   "cell_type": "code",
   "execution_count": 11,
   "id": "e93fb04c",
   "metadata": {},
   "outputs": [
    {
     "name": "stdout",
     "output_type": "stream",
     "text": [
      "[[[ 11   1   1]\n",
      "  [ 45  35  33]\n",
      "  [119 105 107]\n",
      "  ...\n",
      "  [157 155 153]\n",
      "  [157 157 153]\n",
      "  [161 159 157]]\n",
      "\n",
      " [[  1   1  13]\n",
      "  [ 17  23  37]\n",
      "  [ 85  89 105]\n",
      "  ...\n",
      "  [155 159 161]\n",
      "  [153 157 159]\n",
      "  [151 155 157]]\n",
      "\n",
      " [[  1   1  13]\n",
      "  [ 17  31  43]\n",
      "  [ 83  97 109]\n",
      "  ...\n",
      "  [155 155 159]\n",
      "  [157 155 159]\n",
      "  [157 157 159]]\n",
      "\n",
      " ...\n",
      "\n",
      " [[  1  13  27]\n",
      "  [ 47  85  99]\n",
      "  [121 163 175]\n",
      "  ...\n",
      "  [141 195 193]\n",
      "  [141 193 191]\n",
      "  [145 193 193]]\n",
      "\n",
      " [[  5   7  19]\n",
      "  [ 53  55  65]\n",
      "  [105 103 115]\n",
      "  ...\n",
      "  [129 143 149]\n",
      "  [129 143 149]\n",
      "  [137 141 149]]\n",
      "\n",
      " [[  1   5   9]\n",
      "  [  1  21  23]\n",
      "  [  1  25  23]\n",
      "  ...\n",
      "  [  1  33  23]\n",
      "  [  1  33  27]\n",
      "  [  1  27  25]]]\n"
     ]
    }
   ],
   "source": [
    "print(originalImages[1])"
   ]
  },
  {
   "cell_type": "code",
   "execution_count": 6,
   "id": "7ae1db64",
   "metadata": {},
   "outputs": [
    {
     "data": {
      "text/plain": [
       "(1308672, (568, 768, 3), 3)"
      ]
     },
     "execution_count": 6,
     "metadata": {},
     "output_type": "execute_result"
    }
   ],
   "source": [
    "originalImages[1].size, originalImages[1].shape, originalImages[1].ndim"
   ]
  },
  {
   "cell_type": "code",
   "execution_count": 7,
   "id": "05db892c",
   "metadata": {},
   "outputs": [
    {
     "data": {
      "text/plain": [
       "(436224, (568, 768), 2)"
      ]
     },
     "execution_count": 7,
     "metadata": {},
     "output_type": "execute_result"
    }
   ],
   "source": [
    "grayscaleImages[1].size, grayscaleImages[1].shape, grayscaleImages[1].ndim"
   ]
  },
  {
   "cell_type": "code",
   "execution_count": 6,
   "id": "e81652d5",
   "metadata": {},
   "outputs": [
    {
     "data": {
      "text/plain": [
       "(568, 768)"
      ]
     },
     "execution_count": 6,
     "metadata": {},
     "output_type": "execute_result"
    }
   ],
   "source": [
    "grayscaleImages[1].shape"
   ]
  },
  {
   "cell_type": "code",
   "execution_count": null,
   "id": "927d959f",
   "metadata": {},
   "outputs": [],
   "source": [
    "#saltPepper on One Image\n",
    "import cv2\n",
    "import random\n",
    "\n",
    "def saltPepperNoise(image):\n",
    "    row, col = image.shape\n",
    "    num_pixls = 100 #user input value\n",
    "    for i in range(num_pixls):\n",
    "        y_crd = random.randint(0,row-1)\n",
    "        x_crd = random.randint(0,col-1)\n",
    "        image[y_crd][x_crd]=255\n",
    "    for i in range(num_pixls):\n",
    "        y_crd = random.randint(0,row-1)\n",
    "        x_crd = random.randint(0,col-1)\n",
    "        image[y_crd][x_crd]=0\n",
    "    return image\n",
    "\n",
    "image = cv2.imread(\"/Users/jasleenkaur/Desktop/Masters/Spring 2022/Image Analysis/Project/Cancerous cell smears/cyl01.bmp\", 0)\n",
    "cv2.imwrite(\"/Users/jasleenkaur/Desktop/Masters/Spring 2022/Image Analysis/Project/Salt&Pepper/cyl01.bmp\", saltPepperNoise(image))\n",
    "cv2.imshow('image-noise',image)\n",
    "cv2.waitKey(0)\n",
    "cv2.destroyAllWindows()\n",
    "                  "
   ]
  },
  {
   "cell_type": "code",
   "execution_count": 3,
   "id": "ab13eb9d",
   "metadata": {},
   "outputs": [
    {
     "data": {
      "text/plain": [
       "(568, 768)"
      ]
     },
     "execution_count": 3,
     "metadata": {},
     "output_type": "execute_result"
    }
   ],
   "source": [
    "import cv2\n",
    "image = cv2.imread(\"/Users/jasleenkaur/Desktop/Masters/Spring 2022/Image Analysis/Project/Cancerous cell smears/cyl01.bmp\", 0)\n",
    "image.shape\n"
   ]
  },
  {
   "cell_type": "code",
   "execution_count": null,
   "id": "6a70eefd",
   "metadata": {},
   "outputs": [],
   "source": [
    "image.shape"
   ]
  },
  {
   "cell_type": "code",
   "execution_count": null,
   "id": "0a0743af",
   "metadata": {},
   "outputs": [],
   "source": []
  }
 ],
 "metadata": {
  "kernelspec": {
   "display_name": "Python 3 (ipykernel)",
   "language": "python",
   "name": "python3"
  },
  "language_info": {
   "codemirror_mode": {
    "name": "ipython",
    "version": 3
   },
   "file_extension": ".py",
   "mimetype": "text/x-python",
   "name": "python",
   "nbconvert_exporter": "python",
   "pygments_lexer": "ipython3",
   "version": "3.9.7"
  }
 },
 "nbformat": 4,
 "nbformat_minor": 5
}
