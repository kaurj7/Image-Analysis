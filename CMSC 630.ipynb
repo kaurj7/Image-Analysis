{
 "cells": [
  {
   "cell_type": "code",
   "execution_count": 1,
   "id": "b989c304",
   "metadata": {},
   "outputs": [],
   "source": [
    "#mypath = '/Users/jasleenkaur/Desktop/Masters/Spring 2022/Image Analysis/Project/Cancerous cell smears/'\n",
    "#cellFiles = [f for f in listdir(mypath) if (isfile(join(mypath,f))) & (not f.startswith('.'))]\n",
    "#originalImages = np.empty(len(cellFiles),dtype=object)\n",
    "\n"
   ]
  },
  {
   "cell_type": "code",
   "execution_count": null,
   "id": "58039357",
   "metadata": {},
   "outputs": [],
   "source": [
    "#convert image to grayscale\n",
    "\n",
    "import cv2\n",
    "import numpy as np\n",
    "\n",
    "def rgb2gray(image):\n",
    "    \n",
    "    r, g, b = image[:,:,0], image[:,:,1], image[:,:,2]\n",
    "    grayImage = r*0.2989 + g*0.5870 + b*0.1140\n",
    "    \n",
    "    return grayImage\n",
    "    \n",
    "    \n",
    "image = cv2.imread(\"/Users/jasleenkaur/Desktop/Masters/Spring 2022/Image Analysis/Project/Cancerous cell smears/cyl01.bmp\")\n",
    "image2 = cv2.imread(\"/Users/jasleenkaur/Desktop/Masters/Spring 2022/Image Analysis/Project/Cancerous cell smears/cyl01.bmp\",0)\n",
    "cv2.imwrite(\"/Users/jasleenkaur/Desktop/Masters/Spring 2022/Image Analysis/Project/CustomgrayImage.bmp\", rgb2gray(image))\n",
    "cv2.imwrite(\"/Users/jasleenkaur/Desktop/Masters/Spring 2022/Image Analysis/Project/grayImage.bmp\", image2)\n",
    "    \n",
    "\n"
   ]
  },
  {
   "cell_type": "code",
   "execution_count": 9,
   "id": "1b5aa6e4",
   "metadata": {},
   "outputs": [],
   "source": [
    "#Loading images into arrays, converting to gray and saving per group and\n",
    "\n",
    "from os import listdir\n",
    "from os.path import isfile, join\n",
    "import numpy as np\n",
    "import cv2\n",
    "import random\n",
    "\n",
    "def extractImageArrays(cellFiles, imageArrays):\n",
    "    for n in range(0,len(cellFiles)):\n",
    "        imageArrays[n] = cv2.imread(join(mypath,cellFiles[n]))\n",
    "    return imageArrays\n",
    "\n",
    "def convert2Gray(grayscaleImageArray, imageType):\n",
    "    cntr = 1\n",
    "    for eachImage in range(len(grayscaleImageArray)):\n",
    "    \n",
    "        r, g, b = grayscaleImageArray[eachImage][:,:,0], grayscaleImageArray[eachImage][:,:,1], grayscaleImageArray[eachImage][:,:,2]\n",
    "        grayscaleImageArray[eachImage] = r*0.2989 + g*0.5870 + b*0.1140 \n",
    "        \n",
    "        \n",
    "        cv2.imwrite(\"/Users/jasleenkaur/Desktop/Masters/Spring 2022/Image Analysis/Project/GrayscaleImages/\" + imageType + str(cntr) + \".bmp\", grayscaleImageArray[eachImage])\n",
    "        \n",
    "        cntr += 1\n",
    "    \n",
    "    return grayscaleImageArray, imageType\n",
    "\n",
    "\n",
    "mypath = '/Users/jasleenkaur/Desktop/Masters/Spring 2022/Image Analysis/Project/Cancerous cell smears/'\n",
    "\n",
    "columnarFiles = [f for f in listdir(mypath) if (isfile(join(mypath,f))) & (not f.startswith('.')) & (f.startswith('cyl'))]\n",
    "columnarImages = np.empty(len(columnarFiles),dtype=object)\n",
    "columnarImageArray = extractImageArrays(columnarFiles, columnarImages)\n",
    "columnarGrayArray, cylImageType = convert2Gray(columnarImageArray, \"cyl\")\n",
    "columnarCopyArray = np.copy(columnarGrayArray)\n",
    "\n",
    "parabasalFiles = [f for f in listdir(mypath) if (isfile(join(mypath,f))) & (not f.startswith('.')) & (f.startswith('para'))]\n",
    "parabasalImages = np.empty(len(parabasalFiles),dtype=object)\n",
    "parabasalImageArray = extractImageArrays(parabasalFiles, parabasalImages)\n",
    "parabasalGrayArray, paraImageType = convert2Gray(parabasalImageArray, \"para\")\n",
    "parabasalCopyArray = np.copy(parabasalGrayArray)\n",
    "\n",
    "intermediateFiles = [f for f in listdir(mypath) if (isfile(join(mypath,f))) & (not f.startswith('.')) & (f.startswith('inter'))]\n",
    "intermediateImages = np.empty(len(intermediateFiles),dtype=object)\n",
    "intermediateImageArray = extractImageArrays(intermediateFiles, intermediateImages)\n",
    "intermediateGrayArray, interImageType = convert2Gray(intermediateImageArray, \"inter\")\n",
    "intermediateCopyArray = np.copy(intermediateGrayArray)\n",
    "\n",
    "superFiles = [f for f in listdir(mypath) if (isfile(join(mypath,f))) & (not f.startswith('.')) & (f.startswith('super'))]\n",
    "superImages = np.empty(len(superFiles),dtype=object)\n",
    "superImageArray = extractImageArrays(superFiles, superImages)\n",
    "superGrayArray, superImageType = convert2Gray(superImageArray, \"super\")\n",
    "superCopyArray = np.copy(superGrayArray)\n",
    "\n",
    "mildFiles = [f for f in listdir(mypath) if (isfile(join(mypath,f))) & (not f.startswith('.')) & (f.startswith('let'))]\n",
    "mildImages = np.empty(len(mildFiles),dtype=object)\n",
    "mildImageArray = extractImageArrays(mildFiles, mildImages)\n",
    "mildGrayArray, mildImageType = convert2Gray(mildImageArray, \"let\")\n",
    "mildCopyArray = np.copy(mildGrayArray)\n",
    "\n",
    "moderateFiles = [f for f in listdir(mypath) if (isfile(join(mypath,f))) & (not f.startswith('.')) & (f.startswith('mod'))]\n",
    "moderateImages = np.empty(len(moderateFiles),dtype=object)\n",
    "moderateImageArray = extractImageArrays(moderateFiles, moderateImages)\n",
    "moderateGrayArray, modImageType = convert2Gray(moderateImageArray, \"mod\")\n",
    "moderateCopyArray = np.copy(moderateGrayArray)\n",
    "\n",
    "severeFiles = [f for f in listdir(mypath) if (isfile(join(mypath,f))) & (not f.startswith('.')) & (f.startswith('svar'))]\n",
    "severeImages = np.empty(len(severeFiles),dtype=object)\n",
    "severeImageArray = extractImageArrays(severeFiles, severeImages)\n",
    "severeGrayArray, svarImageType7 = convert2Gray(severeImageArray, \"svar\")\n",
    "severeCopyArray = np.copy(severeGrayArray)\n",
    "\n",
    "\n",
    "#grayscaleImageArray = np.copy(originalImages)\n",
    "\n",
    "#originalImages[1].size, originalImages[1].shape, originalImages[1].ndim\n",
    "#grayscaleImages[1].size, grayscaleImages[1].shape, grayscaleImages[1].ndim\n",
    "#cv2.imshow('Sample image', images[1])\n",
    "#cv2.waitKey(0)\n",
    "#cv2.destroyAllWindows()\n"
   ]
  },
  {
   "cell_type": "code",
   "execution_count": 10,
   "id": "1d623a5e",
   "metadata": {},
   "outputs": [
    {
     "name": "stdout",
     "output_type": "stream",
     "text": [
      "cyl\n"
     ]
    }
   ],
   "source": [
    "print(cylImageType)"
   ]
  },
  {
   "cell_type": "code",
   "execution_count": null,
   "id": "eaf1c0bd",
   "metadata": {},
   "outputs": [],
   "source": []
  },
  {
   "cell_type": "code",
   "execution_count": 12,
   "id": "55a98600",
   "metadata": {},
   "outputs": [
    {
     "name": "stdout",
     "output_type": "stream",
     "text": [
      "6\n"
     ]
    }
   ],
   "source": [
    "#Salt and Pepper noise (FINAL)\n",
    "\n",
    "#copy the array of immages to modify\n",
    "saltPepperArray = np.copy(columnarCopyArray[:5])\n",
    "\n",
    "fileSaveLocation = \"/Users/jasleenkaur/Desktop/Masters/Spring 2022/Image Analysis/Project/Salt&Pepper/\"\n",
    "\n",
    "def saltPepper(ImageArray, imageType):\n",
    "    cntr = 1\n",
    "    number_of_pixels = 500 #user input value\n",
    "    for eachImage in range(len(ImageArray)):\n",
    "        row, col = ImageArray[eachImage].shape\n",
    "        for i in range(number_of_pixels):\n",
    "            y_coord=random.randint(0,row-1)\n",
    "            x_coord=random.randint(0,col-1)\n",
    "            ImageArray[eachImage][y_coord][x_coord] = 255\n",
    "            \n",
    "        for i in range(number_of_pixels):\n",
    "            y_coord=random.randint(0,row-1)\n",
    "            x_coord=random.randint(0,col-1)\n",
    "            ImageArray[eachImage][y_coord][x_coord] = 0\n",
    "        \n",
    "        cv2.imwrite(fileSaveLocation + imageType + str(cntr) + \".bmp\", ImageArray[eachImage])\n",
    "        cntr+=1\n",
    "        #print(counter)\n",
    "    return ImageArray, cntr\n",
    "\n",
    "saltPepperArray, counter = saltPepper(saltPepperArray, cylImageType)\n",
    "print(counter)\n",
    "\n",
    "#cv2.imwrite(cellFiles, saltPepper(saltPepperArray))\n",
    "#cv2.imshow('SaltPepper Image', saltPepperArray[1])\n",
    "#cv2.waitKey(0)\n",
    "#cv2.destroyAllWindows()\n",
    "\n"
   ]
  },
  {
   "cell_type": "code",
   "execution_count": null,
   "id": "facae9cb",
   "metadata": {},
   "outputs": [],
   "source": []
  },
  {
   "cell_type": "code",
   "execution_count": null,
   "id": "08b9405a",
   "metadata": {},
   "outputs": [],
   "source": [
    "\n",
    "    "
   ]
  },
  {
   "cell_type": "code",
   "execution_count": null,
   "id": "72470392",
   "metadata": {},
   "outputs": [],
   "source": []
  },
  {
   "cell_type": "code",
   "execution_count": 4,
   "id": "89541db2",
   "metadata": {},
   "outputs": [],
   "source": [
    "#import matplotlib.pyplot as plt\n",
    "#%matplotlib inline\n",
    "\n",
    "#plt.imshow(saltPepperArray[0],cmap='gray')\n",
    "#plt.show()"
   ]
  },
  {
   "cell_type": "code",
   "execution_count": null,
   "id": "9154e7c5",
   "metadata": {},
   "outputs": [],
   "source": [
    "cv2.imshow('Grayscale image', grayscaleImages[1])\n",
    "cv2.waitKey(0)\n",
    "cv2.destroyAllWindows()"
   ]
  },
  {
   "cell_type": "code",
   "execution_count": 25,
   "id": "2b8bb9ec",
   "metadata": {},
   "outputs": [
    {
     "name": "stdout",
     "output_type": "stream",
     "text": [
      "(500,)\n",
      "(500,)\n"
     ]
    }
   ],
   "source": [
    "print(grayscaleImages.shape)"
   ]
  },
  {
   "cell_type": "code",
   "execution_count": 1,
   "id": "e93fb04c",
   "metadata": {},
   "outputs": [],
   "source": [
    "#print(len(grayscaleImages))\n",
    "#grayscaleImages[1].shape\n",
    "#for x in grayscaleImages:\n",
    "    #print(x.shape)\n",
    "    #print(grayscaleImages[x].shape)"
   ]
  },
  {
   "cell_type": "code",
   "execution_count": 6,
   "id": "7ae1db64",
   "metadata": {},
   "outputs": [
    {
     "data": {
      "text/plain": [
       "(1308672, (568, 768, 3), 3)"
      ]
     },
     "execution_count": 6,
     "metadata": {},
     "output_type": "execute_result"
    }
   ],
   "source": [
    "originalImages[1].size, originalImages[1].shape, originalImages[1].ndim"
   ]
  },
  {
   "cell_type": "code",
   "execution_count": 7,
   "id": "05db892c",
   "metadata": {},
   "outputs": [
    {
     "data": {
      "text/plain": [
       "(436224, (568, 768), 2)"
      ]
     },
     "execution_count": 7,
     "metadata": {},
     "output_type": "execute_result"
    }
   ],
   "source": [
    "grayscaleImages[1].size, grayscaleImages[1].shape, grayscaleImages[1].ndim"
   ]
  },
  {
   "cell_type": "code",
   "execution_count": 36,
   "id": "e81652d5",
   "metadata": {},
   "outputs": [
    {
     "data": {
      "text/plain": [
       "(568, 768)"
      ]
     },
     "execution_count": 36,
     "metadata": {},
     "output_type": "execute_result"
    }
   ],
   "source": [
    "grayscaleImages[1].shape"
   ]
  },
  {
   "cell_type": "code",
   "execution_count": null,
   "id": "927d959f",
   "metadata": {},
   "outputs": [],
   "source": [
    "#saltPepper on One Image\n",
    "import cv2\n",
    "import random\n",
    "\n",
    "def saltPepperNoise(image):\n",
    "    row, col = image.shape\n",
    "    num_pixls = 100 #user input value\n",
    "    for i in range(num_pixls):\n",
    "        y_crd = random.randint(0,row-1)\n",
    "        x_crd = random.randint(0,col-1)\n",
    "        image[y_crd][x_crd]=255\n",
    "    for i in range(num_pixls):\n",
    "        y_crd = random.randint(0,row-1)\n",
    "        x_crd = random.randint(0,col-1)\n",
    "        image[y_crd][x_crd]=0\n",
    "    return image\n",
    "\n",
    "image = cv2.imread(\"/Users/jasleenkaur/Desktop/Masters/Spring 2022/Image Analysis/Project/Cancerous cell smears/cyl01.bmp\", 0)\n",
    "cv2.imwrite(\"/Users/jasleenkaur/Desktop/Masters/Spring 2022/Image Analysis/Project/Salt&Pepper/cyl01.bmp\", saltPepperNoise(image))\n",
    "cv2.imshow('image-noise',image)\n",
    "cv2.waitKey(0)\n",
    "cv2.destroyAllWindows()\n",
    "                  "
   ]
  },
  {
   "cell_type": "code",
   "execution_count": 28,
   "id": "ab13eb9d",
   "metadata": {},
   "outputs": [
    {
     "data": {
      "text/plain": [
       "(568, 768)"
      ]
     },
     "execution_count": 28,
     "metadata": {},
     "output_type": "execute_result"
    }
   ],
   "source": [
    "import cv2\n",
    "image = cv2.imread(\"/Users/jasleenkaur/Desktop/Masters/Spring 2022/Image Analysis/Project/Cancerous cell smears/cyl01.bmp\", 0)\n",
    "image.shape\n"
   ]
  },
  {
   "cell_type": "code",
   "execution_count": null,
   "id": "6a70eefd",
   "metadata": {},
   "outputs": [],
   "source": []
  },
  {
   "cell_type": "code",
   "execution_count": null,
   "id": "0a0743af",
   "metadata": {},
   "outputs": [],
   "source": []
  },
  {
   "cell_type": "code",
   "execution_count": null,
   "id": "fb46b311",
   "metadata": {},
   "outputs": [],
   "source": []
  },
  {
   "cell_type": "code",
   "execution_count": null,
   "id": "32eaaf98",
   "metadata": {},
   "outputs": [],
   "source": []
  },
  {
   "cell_type": "code",
   "execution_count": 7,
   "id": "a654239a",
   "metadata": {},
   "outputs": [
    {
     "data": {
      "text/plain": [
       "True"
      ]
     },
     "execution_count": 7,
     "metadata": {},
     "output_type": "execute_result"
    }
   ],
   "source": [
    "#Gaussian on one image\n",
    "import cv2\n",
    "import random\n",
    "import numpy as np\n",
    "\n",
    "mean = 100\n",
    "var = 100\n",
    "sigma = var ** 0.5\n",
    "\n",
    "\n",
    "def gaussianNoise(image):\n",
    "    for i in range(image.shape[0]):\n",
    "        for j in range(image.shape[1]):\n",
    "                noisey_image[i][j] += np.random.normal(mean, sigma, (1,1))\n",
    "    return noisey_image\n",
    "\n",
    "image = cv2.imread(\"/Users/jasleenkaur/Desktop/Masters/Spring 2022/Image Analysis/Project/Cancerous cell smears/cyl01.bmp\",0)\n",
    "image = image.astype(float)\n",
    "noisey_image = np.copy(image)\n",
    "cv2.imwrite(\"/Users/jasleenkaur/Desktop/Masters/Spring 2022/Image Analysis/Project/Gaussian/test4.bmp\", gaussianNoise(image))\n",
    "#cv2.imshow('image-noise',image)\n",
    "#cv2.waitKey(0)\n",
    "#cv2.destroyAllWindows()"
   ]
  },
  {
   "cell_type": "code",
   "execution_count": 31,
   "id": "0d7dba58",
   "metadata": {},
   "outputs": [
    {
     "data": {
      "text/plain": [
       "True"
      ]
     },
     "execution_count": 31,
     "metadata": {},
     "output_type": "execute_result"
    }
   ],
   "source": [
    "#Gaussian on one image (using np.random.normal)\n",
    "import cv2\n",
    "import random\n",
    "import numpy as np\n",
    "\n",
    "mean = 50\n",
    "var = 100\n",
    "sigma = var ** 0.5\n",
    "\n",
    "\n",
    "def gaussianNoise(image):\n",
    "    noisey_image = image + gaussian\n",
    "    return noisey_image\n",
    "\n",
    "image = cv2.imread(\"/Users/jasleenkaur/Desktop/Masters/Spring 2022/Image Analysis/Project/Cancerous cell smears/cyl01.bmp\")\n",
    "image = image.astype(float)\n",
    "gaussian = np.random.normal(mean, sigma, (image.shape[0], image.shape[1], image.shape[2]))\n",
    "noisey_image = np.copy(image)\n",
    "cv2.imwrite(\"/Users/jasleenkaur/Desktop/Masters/Spring 2022/Image Analysis/Project/Gaussian/NewMethod1.bmp\", gaussianNoise(image))\n",
    "#cv2.imshow('image-noise',image)\n",
    "#cv2.waitKey(0)\n",
    "#cv2.destroyAllWindows()"
   ]
  },
  {
   "cell_type": "code",
   "execution_count": 19,
   "id": "e8dceb5d",
   "metadata": {},
   "outputs": [
    {
     "name": "stdout",
     "output_type": "stream",
     "text": [
      "(568, 768, 3)\n",
      "(568, 768, 3)\n"
     ]
    }
   ],
   "source": [
    "print(image.shape)\n",
    "print(gaussian.shape)"
   ]
  },
  {
   "cell_type": "code",
   "execution_count": 34,
   "id": "dc5b8484",
   "metadata": {},
   "outputs": [
    {
     "ename": "ValueError",
     "evalue": "operands could not be broadcast together with shapes (568,768) (5,5) ",
     "output_type": "error",
     "traceback": [
      "\u001b[0;31m---------------------------------------------------------------------------\u001b[0m",
      "\u001b[0;31mValueError\u001b[0m                                Traceback (most recent call last)",
      "\u001b[0;32m/var/folders/xm/7j3wj79x3j53lzgp3fy4kw_00000gn/T/ipykernel_10450/3856297552.py\u001b[0m in \u001b[0;36m<module>\u001b[0;34m\u001b[0m\n\u001b[1;32m     26\u001b[0m \u001b[0mgaussian_image\u001b[0m \u001b[0;34m=\u001b[0m \u001b[0mnp\u001b[0m\u001b[0;34m.\u001b[0m\u001b[0mzeros\u001b[0m\u001b[0;34m(\u001b[0m\u001b[0mimage\u001b[0m\u001b[0;34m.\u001b[0m\u001b[0mshape\u001b[0m\u001b[0;34m,\u001b[0m \u001b[0mnp\u001b[0m\u001b[0;34m.\u001b[0m\u001b[0mfloat32\u001b[0m\u001b[0;34m)\u001b[0m\u001b[0;34m\u001b[0m\u001b[0;34m\u001b[0m\u001b[0m\n\u001b[1;32m     27\u001b[0m \u001b[0mgauss\u001b[0m\u001b[0;34m=\u001b[0m\u001b[0mgaussianCalc\u001b[0m\u001b[0;34m(\u001b[0m\u001b[0;36m5\u001b[0m\u001b[0;34m,\u001b[0m\u001b[0;36m5\u001b[0m\u001b[0;34m,\u001b[0m\u001b[0;36m2\u001b[0m\u001b[0;34m)\u001b[0m\u001b[0;34m\u001b[0m\u001b[0;34m\u001b[0m\u001b[0m\n\u001b[0;32m---> 28\u001b[0;31m \u001b[0mcv2\u001b[0m\u001b[0;34m.\u001b[0m\u001b[0mimwrite\u001b[0m\u001b[0;34m(\u001b[0m\u001b[0;34m\"/Users/jasleenkaur/Desktop/Masters/Spring 2022/Image Analysis/Project/Gaussian/newImage.bmp\"\u001b[0m\u001b[0;34m,\u001b[0m \u001b[0mgaussianNoise\u001b[0m\u001b[0;34m(\u001b[0m\u001b[0mimage\u001b[0m\u001b[0;34m)\u001b[0m\u001b[0;34m)\u001b[0m\u001b[0;34m\u001b[0m\u001b[0;34m\u001b[0m\u001b[0m\n\u001b[0m\u001b[1;32m     29\u001b[0m \u001b[0;34m\u001b[0m\u001b[0m\n\u001b[1;32m     30\u001b[0m \u001b[0;34m\u001b[0m\u001b[0m\n",
      "\u001b[0;32m/var/folders/xm/7j3wj79x3j53lzgp3fy4kw_00000gn/T/ipykernel_10450/3856297552.py\u001b[0m in \u001b[0;36mgaussianNoise\u001b[0;34m(gaussian_image)\u001b[0m\n\u001b[1;32m     19\u001b[0m \u001b[0;34m\u001b[0m\u001b[0m\n\u001b[1;32m     20\u001b[0m \u001b[0;32mdef\u001b[0m \u001b[0mgaussianNoise\u001b[0m\u001b[0;34m(\u001b[0m\u001b[0mgaussian_image\u001b[0m\u001b[0;34m)\u001b[0m\u001b[0;34m:\u001b[0m\u001b[0;34m\u001b[0m\u001b[0;34m\u001b[0m\u001b[0m\n\u001b[0;32m---> 21\u001b[0;31m     \u001b[0mgaussian_image\u001b[0m \u001b[0;34m=\u001b[0m \u001b[0mgaussian_image\u001b[0m \u001b[0;34m+\u001b[0m \u001b[0mgauss\u001b[0m\u001b[0;34m\u001b[0m\u001b[0;34m\u001b[0m\u001b[0m\n\u001b[0m\u001b[1;32m     22\u001b[0m     \u001b[0;32mreturn\u001b[0m \u001b[0mgaussian_image\u001b[0m\u001b[0;34m\u001b[0m\u001b[0;34m\u001b[0m\u001b[0m\n\u001b[1;32m     23\u001b[0m \u001b[0;34m\u001b[0m\u001b[0m\n",
      "\u001b[0;31mValueError\u001b[0m: operands could not be broadcast together with shapes (568,768) (5,5) "
     ]
    }
   ],
   "source": [
    "#Gaussian on one image \n",
    "import cv2\n",
    "import random\n",
    "import numpy as np\n",
    "\n",
    "def gaussianCalc(m,n,sigma):\n",
    "    gaussian = np.zeros((m,n))\n",
    "    m = m//2\n",
    "    n = n//2\n",
    "    for x in range(-m, m+1):\n",
    "        for y in range(-n,n+1):\n",
    "            x1 = sigma*(2*np.pi)**2\n",
    "            x2 = np.exp(-(x**2+y**2)/(2*sigma**2))\n",
    "            gaussian[x+m,y+n]=(1/x1)*x2\n",
    "            \n",
    "    #gaussian_image = image + gaussian\n",
    "    return gaussian\n",
    "    #return gaussian_image\n",
    "\n",
    "def gaussianNoise(gaussian_image):\n",
    "    gaussian_image = gaussian_image + gauss\n",
    "    return gaussian_image\n",
    "\n",
    "image = cv2.imread(\"/Users/jasleenkaur/Desktop/Masters/Spring 2022/Image Analysis/Project/Cancerous cell smears/cyl01.bmp\",0)\n",
    "#image = image.astype(float)\n",
    "gaussian_image = np.zeros(image.shape, np.float32)\n",
    "gauss=gaussianCalc(5,5,2)\n",
    "cv2.imwrite(\"/Users/jasleenkaur/Desktop/Masters/Spring 2022/Image Analysis/Project/Gaussian/newImage.bmp\", gaussianNoise(image))\n",
    "\n",
    "            "
   ]
  },
  {
   "cell_type": "code",
   "execution_count": 32,
   "id": "d8d64b34",
   "metadata": {},
   "outputs": [
    {
     "name": "stdout",
     "output_type": "stream",
     "text": [
      "5\n",
      "568\n"
     ]
    }
   ],
   "source": [
    "print(len(g))\n",
    "print(len(gaussian_image))"
   ]
  },
  {
   "cell_type": "code",
   "execution_count": null,
   "id": "ba019664",
   "metadata": {},
   "outputs": [],
   "source": [
    "#Gaussian on one image\n",
    "import cv2\n",
    "import random\n",
    "import numpy as np\n",
    "\n",
    "mean = 100\n",
    "var = 100\n",
    "sigma = var ** 0.5\n",
    "\n",
    "\n",
    "def gaussianNoise(image):\n",
    "    for i in range(image.shape[0]):\n",
    "        for j in range(image.shape[1]):\n",
    "                noisey_image[i][j] += np.random.normal(mean, sigma, (1,1))\n",
    "    return noisey_image\n",
    "\n",
    "def normal_distribution(x, mean, sd):\n",
    "    prob_density = (np.pi*sd) * np.exp(-0.5*((x-mean)/sd)**2)\n",
    "    return prob_density\n",
    "\n",
    "\n",
    "image = cv2.imread(\"/Users/jasleenkaur/Desktop/Masters/Spring 2022/Image Analysis/Project/Cancerous cell smears/cyl01.bmp\",0)\n",
    "image = image.astype(float)\n",
    "noisey_image = np.copy(image)\n",
    "cv2.imwrite(\"/Users/jasleenkaur/Desktop/Masters/Spring 2022/Image Analysis/Project/Gaussian/test4.bmp\", gaussianNoise(image))\n",
    "#cv2.imshow('image-noise',image)\n",
    "#cv2.waitKey(0)\n",
    "#cv2.destroyAllWindows()"
   ]
  },
  {
   "cell_type": "code",
   "execution_count": null,
   "id": "0c381e87",
   "metadata": {},
   "outputs": [],
   "source": [
    "#Gaussian on multiple images\n",
    "import cv2\n",
    "import random\n",
    "import numpy as np\n",
    "\n",
    "def gaussianCalc(m,n,sigma):\n",
    "    gaussian = np.zeros((m,n))\n",
    "    m = m//2\n",
    "    n = n//2\n",
    "    for x in range(-m, m+1):\n",
    "        for y in range(-n,n+1):\n",
    "            x1 = sigma*(2*np.pi)**2\n",
    "            x2 = np.exp(-(x**2+y**2)/(2*sigma**2))\n",
    "            gaussian[x+m,y+n]=(1/x1)*x2\n",
    "    return gaussian\n",
    "\n",
    "def gaussianNoise(gaussianArray):\n",
    "    for eachImage in range(len(gaussianArray)):\n",
    "        \n",
    "    noisey_image = image + gaussian\n",
    "    return noisey_image\n",
    "\n",
    "\n",
    "gaussianArray = np.copy(originalImages)\n",
    "image = cv2.imread(\"/Users/jasleenkaur/Desktop/Masters/Spring 2022/Image Analysis/Project/Cancerous cell smears/cyl01.bmp\")\n",
    "image = image.astype(float)\n",
    "\n",
    "g=gaussianCalc(5,5,2)\n",
    "cv2.imwrite(\"/Users/jasleenkaur/Desktop/Masters/Spring 2022/Image Analysis/Project/Gaussian/New\")\n",
    "            \n",
    "            \n",
    "            \n",
    "            "
   ]
  }
 ],
 "metadata": {
  "kernelspec": {
   "display_name": "Python 3 (ipykernel)",
   "language": "python",
   "name": "python3"
  },
  "language_info": {
   "codemirror_mode": {
    "name": "ipython",
    "version": 3
   },
   "file_extension": ".py",
   "mimetype": "text/x-python",
   "name": "python",
   "nbconvert_exporter": "python",
   "pygments_lexer": "ipython3",
   "version": "3.9.7"
  }
 },
 "nbformat": 4,
 "nbformat_minor": 5
}
