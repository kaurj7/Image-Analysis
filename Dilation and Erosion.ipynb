{
 "cells": [
  {
   "cell_type": "code",
   "execution_count": 3,
   "id": "ac125e84",
   "metadata": {},
   "outputs": [
    {
     "data": {
      "text/plain": [
       "True"
      ]
     },
     "execution_count": 3,
     "metadata": {},
     "output_type": "execute_result"
    }
   ],
   "source": [
    "#Dilation on one image\n",
    "\n",
    "import cv2\n",
    "import numpy as np\n",
    "\n",
    "\n",
    "def dilation (image):\n",
    "    \n",
    "    height, width = image.shape\n",
    "    \n",
    "    newDilatedImage = np.zeros((height, width), dtype=np.uint8)\n",
    "    \n",
    "    #element = np.array([[0,1,0], [1,1,1], [0,1,0]])\n",
    "    element = np.array([[1,1,1], [1,1,1], [1,1,1]])\n",
    "    constant = 1\n",
    "    \n",
    "    for i in range(constant, height-constant):\n",
    "        for j in range(constant, width-constant):\n",
    "            temp = image[i-constant:i+constant+1, j-constant:j+constant+1]\n",
    "            x = temp*element\n",
    "            newDilatedImage[i,j] = np.max(x)\n",
    "            \n",
    "    return newDilatedImage\n",
    "\n",
    "\n",
    "image = cv2.imread(\"/Users/jasleenkaur/Desktop/Masters/Spring 2022/Image Analysis/Project/Cancerous cell smears/cyl02.bmp\",0)\n",
    "\n",
    "dilatedImage = dilation(image)\n",
    "cv2.imwrite(\"/Users/jasleenkaur/Desktop/Masters/Spring 2022/Image Analysis/Project/Dilation/dilationcyl02-2.bmp\", dilatedImage)\n",
    "\n",
    "\n"
   ]
  },
  {
   "cell_type": "code",
   "execution_count": null,
   "id": "93f6d3cf",
   "metadata": {},
   "outputs": [],
   "source": []
  },
  {
   "cell_type": "code",
   "execution_count": 11,
   "id": "8d4ed199",
   "metadata": {},
   "outputs": [
    {
     "data": {
      "text/plain": [
       "True"
      ]
     },
     "execution_count": 11,
     "metadata": {},
     "output_type": "execute_result"
    }
   ],
   "source": [
    "#Erosion on one image\n",
    "\n",
    "import cv2\n",
    "import numpy as np\n",
    "\n",
    "def erosion (image):\n",
    "    \n",
    "    height, width = image.shape\n",
    "    \n",
    "    newErodedImage = np.zeros((height, width), dtype=np.uint8)\n",
    "    \n",
    "    k=7\n",
    "    element = np.ones((k,k), dtype=np.uint8)\n",
    "    constant = (k-1)//2\n",
    "    \n",
    "    for i in range(constant, height-constant):\n",
    "        for j in range(constant, width-constant):\n",
    "            temp = image[i-constant:i+constant+1, j-constant:j+constant+1]\n",
    "            x = temp*element\n",
    "            newErodedImage[i,j] = np.min(x)\n",
    "            \n",
    "    return newErodedImage\n",
    "\n",
    "image = cv2.imread(\"/Users/jasleenkaur/Desktop/Masters/Spring 2022/Image Analysis/Project/Cancerous cell smears/cyl01.bmp\",0)\n",
    "\n",
    "erodedImage = erosion(image)\n",
    "cv2.imwrite(\"/Users/jasleenkaur/Desktop/Masters/Spring 2022/Image Analysis/Project/Erosion/erosioncyl01.bmp\", erodedImage)\n",
    "\n"
   ]
  },
  {
   "cell_type": "code",
   "execution_count": null,
   "id": "3dd3d0f0",
   "metadata": {},
   "outputs": [],
   "source": []
  }
 ],
 "metadata": {
  "kernelspec": {
   "display_name": "Python 3 (ipykernel)",
   "language": "python",
   "name": "python3"
  },
  "language_info": {
   "codemirror_mode": {
    "name": "ipython",
    "version": 3
   },
   "file_extension": ".py",
   "mimetype": "text/x-python",
   "name": "python",
   "nbconvert_exporter": "python",
   "pygments_lexer": "ipython3",
   "version": "3.9.7"
  }
 },
 "nbformat": 4,
 "nbformat_minor": 5
}
